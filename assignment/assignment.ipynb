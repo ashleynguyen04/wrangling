{
  "cells": [
    {
      "cell_type": "markdown",
      "id": "13ad028b-72b7-43ed-aa78-96fd4e518040",
      "metadata": {
        "id": "13ad028b-72b7-43ed-aa78-96fd4e518040"
      },
      "source": [
        "# Assignment: Data Wrangling\n",
        "### `! git clone https://github.com/ds4e/wrangling`\n",
        "### Do Q2, and one of Q1 or Q3."
      ]
    },
    {
      "cell_type": "markdown",
      "id": "da879ea7-8aac-48a3-b6c2-daea56d2e072",
      "metadata": {
        "id": "da879ea7-8aac-48a3-b6c2-daea56d2e072"
      },
      "source": [
        "**Q1.** This question provides some practice cleaning variables which have common problems.\n",
        "1. Numeric variable: For `./data/airbnb_hw.csv`, clean the `Price` variable as well as you can, and explain the choices you make. How many missing values do you end up with? (Hint: What happens to the formatting when a price goes over 999 dollars, say from 675 to 1,112?)\n",
        "2. Categorical variable: For the Minnesota police use of for data, `./data/mn_police_use_of_force.csv`, clean the `subject_injury` variable, handling the NA's; this gives a value `Yes` when a person was injured by police, and `No` when no injury occurred. What proportion of the values are missing? Is this a concern? Cross-tabulate your cleaned `subject_injury` variable with the `force_type` variable. Are there any patterns regarding when the data are missing?\n",
        "3. Dummy variable: For the pretrial data covered in the lecture, clean the `WhetherDefendantWasReleasedPretrial` variable as well as you can, and, in particular, replace missing values with `np.nan`.\n",
        "4. Missing values, not at random: For the pretrial data covered in the lecture, clean the `ImposedSentenceAllChargeInContactEvent` variable as well as you can, and explain the choices you make. (Hint: Look at the `SentenceTypeAllChargesAtConvictionInContactEvent` variable.)"
      ]
    },
    {
      "cell_type": "markdown",
      "id": "5a60a44e",
      "metadata": {
        "id": "5a60a44e"
      },
      "source": [
        "**Q2.** Go to https://sharkattackfile.net/ and download their dataset on shark attacks.\n",
        "\n",
        "1. Open the shark attack file using Pandas. It is probably not a csv file, so `read_csv` won't work.\n",
        "2. Drop any columns that do not contain data.\n",
        "3. Clean the year variable. Describe the range of values you see. Filter the rows to focus on attacks since 1940. Are attacks increasing, decreasing, or remaining constant over time?\n",
        "\n",
        "Relatively increasing\n",
        "\n",
        "4. Clean the Age variable and make a histogram of the ages of the victims.\n",
        "5. What proportion of victims are male?\n",
        "\n",
        "85.9% of the victims after 1940 are male (4281 of 4984)\n",
        "\n",
        "6. Clean the `Type` variable so it only takes three values: Provoked and Unprovoked and Unknown. What proportion of attacks are unprovoked?\n",
        "\n",
        "74.3% of the attacks after 1940 were unprovoked (4037 of 5434)\n",
        "\n",
        "7. Clean the `Fatal Y/N` variable so it only takes three values: Y, N, and Unknown.\n",
        "8. Are sharks more likely to launch unprovoked attacks on men or women? Is the attack more or less likely to be fatal when the attack is provoked or unprovoked? Is it more or less likely to be fatal when the victim is male or female? How do you feel about sharks?\n",
        "\n",
        "Of the fatal attacks, 83.5% were unprovoked suggesting attacks are more likely to be fatal when unprovoked. Of the fatal attcks, 88.2% wer male, suggesting attacks are more likely to be fatal when the victim is male. I personally don't love sharks and if I saw one at the beach I would be extremely scared.\n",
        "\n",
        "9. What proportion of attacks appear to be by white sharks? (Hint: `str.split()` makes a vector of text values into a list of lists, split by spaces.)\n",
        "\n",
        "8.59% of the attacks after 1940 were from white sharks (467 of 5434)"
      ]
    },
    {
      "cell_type": "code",
      "source": [
        "import pandas as pd\n",
        "import numpy as np\n",
        "import matplotlib.pyplot as plt\n",
        "\n",
        "#1\n",
        "df = pd.read_excel(\"https://sharkattackfile.net/spreadsheets/GSAF5.xls\")"
      ],
      "metadata": {
        "id": "jvyyE2PhF0cj"
      },
      "id": "jvyyE2PhF0cj",
      "execution_count": 227,
      "outputs": []
    },
    {
      "cell_type": "code",
      "source": [
        "#2\n",
        "#df.head()\n",
        "list = ['pdf','href formula','href','Case Number','Case Number.1','original order','Unnamed: 21','Unnamed: 22']\n",
        "new_df = df.drop(list,axis = 1)\n",
        "new_df.head()"
      ],
      "metadata": {
        "id": "nFKFvqVfJpb5",
        "outputId": "1ffdb591-5789-4542-f648-b3c19b93444b",
        "colab": {
          "base_uri": "https://localhost:8080/",
          "height": 466
        }
      },
      "id": "nFKFvqVfJpb5",
      "execution_count": 228,
      "outputs": [
        {
          "output_type": "execute_result",
          "data": {
            "text/plain": [
              "                  Date    Year        Type        Country              State  \\\n",
              "0  2025-01-23 00:00:00  2025.0  Unprovoked      Australia  Western Australia   \n",
              "1  2025-01-22 00:00:00  2025.0  Unprovoked      Australia  Western Australia   \n",
              "2  2025-01-11 00:00:00  2025.0    Provoked            USA             Hawaii   \n",
              "3  2025-01-02 00:00:00  2025.0  Unprovoked  New Caledonia       Grande Terre   \n",
              "4  2025-01-02 00:00:00  2025.0  Unprovoked      Australia    South Australia   \n",
              "\n",
              "                                  Location      Activity  \\\n",
              "0                           Shipwreck Cove       Bathing   \n",
              "1                           Cheynes beach        Surfing   \n",
              "2            Off Haleiwa Boat Harbour Oahu        Diving   \n",
              "3              Islet of Kendek near Koumac  Spearfishing   \n",
              "4  Granites Beach near Westall Streaky Bay       Surfing   \n",
              "\n",
              "                                     Name Sex Age  \\\n",
              "0                                    Boy    M  12   \n",
              "1                             Dale Kittow   M  37   \n",
              "2  Male not stated was a dive tour worker   M  23   \n",
              "3                        Robert Cuewapuru   M  40   \n",
              "4                           Lance Appleby   M  28   \n",
              "\n",
              "                                              Injury Fatal Y/N     Time  \\\n",
              "0                           Minor bite to lower body         N  1711hrs   \n",
              "1              None - chunk of surfboard  bitten out         N  1600hrs   \n",
              "2                                  Bitten on the arm         N  1340hrs   \n",
              "3  Severe arm injury and delay in medical treatme...         Y   1615hr   \n",
              "4                                 Body not recovered         Y   1710hr   \n",
              "\n",
              "                                 Species   \\\n",
              "0                              Not stated   \n",
              "1                           Bronze whaler   \n",
              "2                              Not stated   \n",
              "3          Reportedly Tiger or Bull shark   \n",
              "4  Great White Shart estimated 4.8m 16 ft   \n",
              "\n",
              "                                              Source  \n",
              "0                                     Bob Myatt GSAF  \n",
              "1                                     Bob Myatt GSAF  \n",
              "2                  Kevin McMurray Trackingsharks.com  \n",
              "3                      Johannes Marchand Todd Smith   \n",
              "4  Glen Folkard: Simon De Marchi News.com.au: The...  "
            ],
            "text/html": [
              "\n",
              "  <div id=\"df-488e8a07-c3ae-4c40-b654-112712385d3b\" class=\"colab-df-container\">\n",
              "    <div>\n",
              "<style scoped>\n",
              "    .dataframe tbody tr th:only-of-type {\n",
              "        vertical-align: middle;\n",
              "    }\n",
              "\n",
              "    .dataframe tbody tr th {\n",
              "        vertical-align: top;\n",
              "    }\n",
              "\n",
              "    .dataframe thead th {\n",
              "        text-align: right;\n",
              "    }\n",
              "</style>\n",
              "<table border=\"1\" class=\"dataframe\">\n",
              "  <thead>\n",
              "    <tr style=\"text-align: right;\">\n",
              "      <th></th>\n",
              "      <th>Date</th>\n",
              "      <th>Year</th>\n",
              "      <th>Type</th>\n",
              "      <th>Country</th>\n",
              "      <th>State</th>\n",
              "      <th>Location</th>\n",
              "      <th>Activity</th>\n",
              "      <th>Name</th>\n",
              "      <th>Sex</th>\n",
              "      <th>Age</th>\n",
              "      <th>Injury</th>\n",
              "      <th>Fatal Y/N</th>\n",
              "      <th>Time</th>\n",
              "      <th>Species</th>\n",
              "      <th>Source</th>\n",
              "    </tr>\n",
              "  </thead>\n",
              "  <tbody>\n",
              "    <tr>\n",
              "      <th>0</th>\n",
              "      <td>2025-01-23 00:00:00</td>\n",
              "      <td>2025.0</td>\n",
              "      <td>Unprovoked</td>\n",
              "      <td>Australia</td>\n",
              "      <td>Western Australia</td>\n",
              "      <td>Shipwreck Cove</td>\n",
              "      <td>Bathing</td>\n",
              "      <td>Boy</td>\n",
              "      <td>M</td>\n",
              "      <td>12</td>\n",
              "      <td>Minor bite to lower body</td>\n",
              "      <td>N</td>\n",
              "      <td>1711hrs</td>\n",
              "      <td>Not stated</td>\n",
              "      <td>Bob Myatt GSAF</td>\n",
              "    </tr>\n",
              "    <tr>\n",
              "      <th>1</th>\n",
              "      <td>2025-01-22 00:00:00</td>\n",
              "      <td>2025.0</td>\n",
              "      <td>Unprovoked</td>\n",
              "      <td>Australia</td>\n",
              "      <td>Western Australia</td>\n",
              "      <td>Cheynes beach</td>\n",
              "      <td>Surfing</td>\n",
              "      <td>Dale Kittow</td>\n",
              "      <td>M</td>\n",
              "      <td>37</td>\n",
              "      <td>None - chunk of surfboard  bitten out</td>\n",
              "      <td>N</td>\n",
              "      <td>1600hrs</td>\n",
              "      <td>Bronze whaler</td>\n",
              "      <td>Bob Myatt GSAF</td>\n",
              "    </tr>\n",
              "    <tr>\n",
              "      <th>2</th>\n",
              "      <td>2025-01-11 00:00:00</td>\n",
              "      <td>2025.0</td>\n",
              "      <td>Provoked</td>\n",
              "      <td>USA</td>\n",
              "      <td>Hawaii</td>\n",
              "      <td>Off Haleiwa Boat Harbour Oahu</td>\n",
              "      <td>Diving</td>\n",
              "      <td>Male not stated was a dive tour worker</td>\n",
              "      <td>M</td>\n",
              "      <td>23</td>\n",
              "      <td>Bitten on the arm</td>\n",
              "      <td>N</td>\n",
              "      <td>1340hrs</td>\n",
              "      <td>Not stated</td>\n",
              "      <td>Kevin McMurray Trackingsharks.com</td>\n",
              "    </tr>\n",
              "    <tr>\n",
              "      <th>3</th>\n",
              "      <td>2025-01-02 00:00:00</td>\n",
              "      <td>2025.0</td>\n",
              "      <td>Unprovoked</td>\n",
              "      <td>New Caledonia</td>\n",
              "      <td>Grande Terre</td>\n",
              "      <td>Islet of Kendek near Koumac</td>\n",
              "      <td>Spearfishing</td>\n",
              "      <td>Robert Cuewapuru</td>\n",
              "      <td>M</td>\n",
              "      <td>40</td>\n",
              "      <td>Severe arm injury and delay in medical treatme...</td>\n",
              "      <td>Y</td>\n",
              "      <td>1615hr</td>\n",
              "      <td>Reportedly Tiger or Bull shark</td>\n",
              "      <td>Johannes Marchand Todd Smith</td>\n",
              "    </tr>\n",
              "    <tr>\n",
              "      <th>4</th>\n",
              "      <td>2025-01-02 00:00:00</td>\n",
              "      <td>2025.0</td>\n",
              "      <td>Unprovoked</td>\n",
              "      <td>Australia</td>\n",
              "      <td>South Australia</td>\n",
              "      <td>Granites Beach near Westall Streaky Bay</td>\n",
              "      <td>Surfing</td>\n",
              "      <td>Lance Appleby</td>\n",
              "      <td>M</td>\n",
              "      <td>28</td>\n",
              "      <td>Body not recovered</td>\n",
              "      <td>Y</td>\n",
              "      <td>1710hr</td>\n",
              "      <td>Great White Shart estimated 4.8m 16 ft</td>\n",
              "      <td>Glen Folkard: Simon De Marchi News.com.au: The...</td>\n",
              "    </tr>\n",
              "  </tbody>\n",
              "</table>\n",
              "</div>\n",
              "    <div class=\"colab-df-buttons\">\n",
              "\n",
              "  <div class=\"colab-df-container\">\n",
              "    <button class=\"colab-df-convert\" onclick=\"convertToInteractive('df-488e8a07-c3ae-4c40-b654-112712385d3b')\"\n",
              "            title=\"Convert this dataframe to an interactive table.\"\n",
              "            style=\"display:none;\">\n",
              "\n",
              "  <svg xmlns=\"http://www.w3.org/2000/svg\" height=\"24px\" viewBox=\"0 -960 960 960\">\n",
              "    <path d=\"M120-120v-720h720v720H120Zm60-500h600v-160H180v160Zm220 220h160v-160H400v160Zm0 220h160v-160H400v160ZM180-400h160v-160H180v160Zm440 0h160v-160H620v160ZM180-180h160v-160H180v160Zm440 0h160v-160H620v160Z\"/>\n",
              "  </svg>\n",
              "    </button>\n",
              "\n",
              "  <style>\n",
              "    .colab-df-container {\n",
              "      display:flex;\n",
              "      gap: 12px;\n",
              "    }\n",
              "\n",
              "    .colab-df-convert {\n",
              "      background-color: #E8F0FE;\n",
              "      border: none;\n",
              "      border-radius: 50%;\n",
              "      cursor: pointer;\n",
              "      display: none;\n",
              "      fill: #1967D2;\n",
              "      height: 32px;\n",
              "      padding: 0 0 0 0;\n",
              "      width: 32px;\n",
              "    }\n",
              "\n",
              "    .colab-df-convert:hover {\n",
              "      background-color: #E2EBFA;\n",
              "      box-shadow: 0px 1px 2px rgba(60, 64, 67, 0.3), 0px 1px 3px 1px rgba(60, 64, 67, 0.15);\n",
              "      fill: #174EA6;\n",
              "    }\n",
              "\n",
              "    .colab-df-buttons div {\n",
              "      margin-bottom: 4px;\n",
              "    }\n",
              "\n",
              "    [theme=dark] .colab-df-convert {\n",
              "      background-color: #3B4455;\n",
              "      fill: #D2E3FC;\n",
              "    }\n",
              "\n",
              "    [theme=dark] .colab-df-convert:hover {\n",
              "      background-color: #434B5C;\n",
              "      box-shadow: 0px 1px 3px 1px rgba(0, 0, 0, 0.15);\n",
              "      filter: drop-shadow(0px 1px 2px rgba(0, 0, 0, 0.3));\n",
              "      fill: #FFFFFF;\n",
              "    }\n",
              "  </style>\n",
              "\n",
              "    <script>\n",
              "      const buttonEl =\n",
              "        document.querySelector('#df-488e8a07-c3ae-4c40-b654-112712385d3b button.colab-df-convert');\n",
              "      buttonEl.style.display =\n",
              "        google.colab.kernel.accessAllowed ? 'block' : 'none';\n",
              "\n",
              "      async function convertToInteractive(key) {\n",
              "        const element = document.querySelector('#df-488e8a07-c3ae-4c40-b654-112712385d3b');\n",
              "        const dataTable =\n",
              "          await google.colab.kernel.invokeFunction('convertToInteractive',\n",
              "                                                    [key], {});\n",
              "        if (!dataTable) return;\n",
              "\n",
              "        const docLinkHtml = 'Like what you see? Visit the ' +\n",
              "          '<a target=\"_blank\" href=https://colab.research.google.com/notebooks/data_table.ipynb>data table notebook</a>'\n",
              "          + ' to learn more about interactive tables.';\n",
              "        element.innerHTML = '';\n",
              "        dataTable['output_type'] = 'display_data';\n",
              "        await google.colab.output.renderOutput(dataTable, element);\n",
              "        const docLink = document.createElement('div');\n",
              "        docLink.innerHTML = docLinkHtml;\n",
              "        element.appendChild(docLink);\n",
              "      }\n",
              "    </script>\n",
              "  </div>\n",
              "\n",
              "\n",
              "<div id=\"df-172bca37-211f-4412-9257-118cd452afa8\">\n",
              "  <button class=\"colab-df-quickchart\" onclick=\"quickchart('df-172bca37-211f-4412-9257-118cd452afa8')\"\n",
              "            title=\"Suggest charts\"\n",
              "            style=\"display:none;\">\n",
              "\n",
              "<svg xmlns=\"http://www.w3.org/2000/svg\" height=\"24px\"viewBox=\"0 0 24 24\"\n",
              "     width=\"24px\">\n",
              "    <g>\n",
              "        <path d=\"M19 3H5c-1.1 0-2 .9-2 2v14c0 1.1.9 2 2 2h14c1.1 0 2-.9 2-2V5c0-1.1-.9-2-2-2zM9 17H7v-7h2v7zm4 0h-2V7h2v10zm4 0h-2v-4h2v4z\"/>\n",
              "    </g>\n",
              "</svg>\n",
              "  </button>\n",
              "\n",
              "<style>\n",
              "  .colab-df-quickchart {\n",
              "      --bg-color: #E8F0FE;\n",
              "      --fill-color: #1967D2;\n",
              "      --hover-bg-color: #E2EBFA;\n",
              "      --hover-fill-color: #174EA6;\n",
              "      --disabled-fill-color: #AAA;\n",
              "      --disabled-bg-color: #DDD;\n",
              "  }\n",
              "\n",
              "  [theme=dark] .colab-df-quickchart {\n",
              "      --bg-color: #3B4455;\n",
              "      --fill-color: #D2E3FC;\n",
              "      --hover-bg-color: #434B5C;\n",
              "      --hover-fill-color: #FFFFFF;\n",
              "      --disabled-bg-color: #3B4455;\n",
              "      --disabled-fill-color: #666;\n",
              "  }\n",
              "\n",
              "  .colab-df-quickchart {\n",
              "    background-color: var(--bg-color);\n",
              "    border: none;\n",
              "    border-radius: 50%;\n",
              "    cursor: pointer;\n",
              "    display: none;\n",
              "    fill: var(--fill-color);\n",
              "    height: 32px;\n",
              "    padding: 0;\n",
              "    width: 32px;\n",
              "  }\n",
              "\n",
              "  .colab-df-quickchart:hover {\n",
              "    background-color: var(--hover-bg-color);\n",
              "    box-shadow: 0 1px 2px rgba(60, 64, 67, 0.3), 0 1px 3px 1px rgba(60, 64, 67, 0.15);\n",
              "    fill: var(--button-hover-fill-color);\n",
              "  }\n",
              "\n",
              "  .colab-df-quickchart-complete:disabled,\n",
              "  .colab-df-quickchart-complete:disabled:hover {\n",
              "    background-color: var(--disabled-bg-color);\n",
              "    fill: var(--disabled-fill-color);\n",
              "    box-shadow: none;\n",
              "  }\n",
              "\n",
              "  .colab-df-spinner {\n",
              "    border: 2px solid var(--fill-color);\n",
              "    border-color: transparent;\n",
              "    border-bottom-color: var(--fill-color);\n",
              "    animation:\n",
              "      spin 1s steps(1) infinite;\n",
              "  }\n",
              "\n",
              "  @keyframes spin {\n",
              "    0% {\n",
              "      border-color: transparent;\n",
              "      border-bottom-color: var(--fill-color);\n",
              "      border-left-color: var(--fill-color);\n",
              "    }\n",
              "    20% {\n",
              "      border-color: transparent;\n",
              "      border-left-color: var(--fill-color);\n",
              "      border-top-color: var(--fill-color);\n",
              "    }\n",
              "    30% {\n",
              "      border-color: transparent;\n",
              "      border-left-color: var(--fill-color);\n",
              "      border-top-color: var(--fill-color);\n",
              "      border-right-color: var(--fill-color);\n",
              "    }\n",
              "    40% {\n",
              "      border-color: transparent;\n",
              "      border-right-color: var(--fill-color);\n",
              "      border-top-color: var(--fill-color);\n",
              "    }\n",
              "    60% {\n",
              "      border-color: transparent;\n",
              "      border-right-color: var(--fill-color);\n",
              "    }\n",
              "    80% {\n",
              "      border-color: transparent;\n",
              "      border-right-color: var(--fill-color);\n",
              "      border-bottom-color: var(--fill-color);\n",
              "    }\n",
              "    90% {\n",
              "      border-color: transparent;\n",
              "      border-bottom-color: var(--fill-color);\n",
              "    }\n",
              "  }\n",
              "</style>\n",
              "\n",
              "  <script>\n",
              "    async function quickchart(key) {\n",
              "      const quickchartButtonEl =\n",
              "        document.querySelector('#' + key + ' button');\n",
              "      quickchartButtonEl.disabled = true;  // To prevent multiple clicks.\n",
              "      quickchartButtonEl.classList.add('colab-df-spinner');\n",
              "      try {\n",
              "        const charts = await google.colab.kernel.invokeFunction(\n",
              "            'suggestCharts', [key], {});\n",
              "      } catch (error) {\n",
              "        console.error('Error during call to suggestCharts:', error);\n",
              "      }\n",
              "      quickchartButtonEl.classList.remove('colab-df-spinner');\n",
              "      quickchartButtonEl.classList.add('colab-df-quickchart-complete');\n",
              "    }\n",
              "    (() => {\n",
              "      let quickchartButtonEl =\n",
              "        document.querySelector('#df-172bca37-211f-4412-9257-118cd452afa8 button');\n",
              "      quickchartButtonEl.style.display =\n",
              "        google.colab.kernel.accessAllowed ? 'block' : 'none';\n",
              "    })();\n",
              "  </script>\n",
              "</div>\n",
              "\n",
              "    </div>\n",
              "  </div>\n"
            ],
            "application/vnd.google.colaboratory.intrinsic+json": {
              "type": "dataframe",
              "variable_name": "new_df",
              "summary": "{\n  \"name\": \"new_df\",\n  \"rows\": 6992,\n  \"fields\": [\n    {\n      \"column\": \"Date\",\n      \"properties\": {\n        \"dtype\": \"string\",\n        \"num_unique_values\": 6040,\n        \"samples\": [\n          \"04-Dec-1887\",\n          \"11-Dec-2016\",\n          \"21-Dec-1928\"\n        ],\n        \"semantic_type\": \"\",\n        \"description\": \"\"\n      }\n    },\n    {\n      \"column\": \"Year\",\n      \"properties\": {\n        \"dtype\": \"number\",\n        \"std\": 272.0827938845794,\n        \"min\": 0.0,\n        \"max\": 2026.0,\n        \"num_unique_values\": 261,\n        \"samples\": [\n          1996.0,\n          1884.0,\n          1857.0\n        ],\n        \"semantic_type\": \"\",\n        \"description\": \"\"\n      }\n    },\n    {\n      \"column\": \"Type\",\n      \"properties\": {\n        \"dtype\": \"category\",\n        \"num_unique_values\": 12,\n        \"samples\": [\n          \"Under investigation\",\n          \"Invalid\",\n          \"Unprovoked\"\n        ],\n        \"semantic_type\": \"\",\n        \"description\": \"\"\n      }\n    },\n    {\n      \"column\": \"Country\",\n      \"properties\": {\n        \"dtype\": \"category\",\n        \"num_unique_values\": 239,\n        \"samples\": [\n          \"EGYPT\",\n          \"Maldives\",\n          \"SAUDI ARABIA\"\n        ],\n        \"semantic_type\": \"\",\n        \"description\": \"\"\n      }\n    },\n    {\n      \"column\": \"State\",\n      \"properties\": {\n        \"dtype\": \"category\",\n        \"num_unique_values\": 920,\n        \"samples\": [\n          \"Kentucky\",\n          \"Southern Japan\",\n          \"Thessaly\"\n        ],\n        \"semantic_type\": \"\",\n        \"description\": \"\"\n      }\n    },\n    {\n      \"column\": \"Location\",\n      \"properties\": {\n        \"dtype\": \"string\",\n        \"num_unique_values\": 4553,\n        \"samples\": [\n          \"Cape Kiwanda, Tillamook County\",\n          \"Atol das Rochas\",\n          \"Ponce de Leon Inlet Volusia County\"\n        ],\n        \"semantic_type\": \"\",\n        \"description\": \"\"\n      }\n    },\n    {\n      \"column\": \"Activity\",\n      \"properties\": {\n        \"dtype\": \"category\",\n        \"num_unique_values\": 1598,\n        \"samples\": [\n          \"Swimming with other crew near wharf\",\n          \"Grabbing shark for a selfie\",\n          \"Standing / surfing\"\n        ],\n        \"semantic_type\": \"\",\n        \"description\": \"\"\n      }\n    },\n    {\n      \"column\": \"Name\",\n      \"properties\": {\n        \"dtype\": \"string\",\n        \"num_unique_values\": 5726,\n        \"samples\": [\n          \"Robert W. Russell\",\n          \"a marine biology student from the University of Miami\",\n          \"Joe Chaney \"\n        ],\n        \"semantic_type\": \"\",\n        \"description\": \"\"\n      }\n    },\n    {\n      \"column\": \"Sex\",\n      \"properties\": {\n        \"dtype\": \"category\",\n        \"num_unique_values\": 8,\n        \"samples\": [\n          \"F\",\n          \"M x 2\",\n          \"M\"\n        ],\n        \"semantic_type\": \"\",\n        \"description\": \"\"\n      }\n    },\n    {\n      \"column\": \"Age\",\n      \"properties\": {\n        \"dtype\": \"category\",\n        \"num_unique_values\": 246,\n        \"samples\": [\n          \"11\",\n          48,\n          \"33 or 37\"\n        ],\n        \"semantic_type\": \"\",\n        \"description\": \"\"\n      }\n    },\n    {\n      \"column\": \"Injury\",\n      \"properties\": {\n        \"dtype\": \"string\",\n        \"num_unique_values\": 4121,\n        \"samples\": [\n          \"When survivors werer rescued on 10/27/1944 by PC 623 there were many sharks in the area\",\n          \"FATAL, but shark involvement prior to death was not confirmed\",\n          \"Not injured by shark but board bitten\"\n        ],\n        \"semantic_type\": \"\",\n        \"description\": \"\"\n      }\n    },\n    {\n      \"column\": \"Fatal Y/N\",\n      \"properties\": {\n        \"dtype\": \"category\",\n        \"num_unique_values\": 12,\n        \"samples\": [\n          \"N \",\n          \" N\",\n          \"N\"\n        ],\n        \"semantic_type\": \"\",\n        \"description\": \"\"\n      }\n    },\n    {\n      \"column\": \"Time\",\n      \"properties\": {\n        \"dtype\": \"category\",\n        \"num_unique_values\": 434,\n        \"samples\": [\n          \"N\",\n          \"14h20\",\n          \"11h46\"\n        ],\n        \"semantic_type\": \"\",\n        \"description\": \"\"\n      }\n    },\n    {\n      \"column\": \"Species \",\n      \"properties\": {\n        \"dtype\": \"category\",\n        \"num_unique_values\": 1706,\n        \"samples\": [\n          \"1.5' to 2' shark\",\n          \"Said to involve a 4.9 m [16'] \\\"red shark\\\"\",\n          \"2.7 m [9'] shark later captured by Mitchell-Hedges\"\n        ],\n        \"semantic_type\": \"\",\n        \"description\": \"\"\n      }\n    },\n    {\n      \"column\": \"Source\",\n      \"properties\": {\n        \"dtype\": \"string\",\n        \"num_unique_values\": 5345,\n        \"samples\": [\n          \"G.P. Whitley (1951), p.194 cites Daily Mirror (Sydney); J. Green, p.34\",\n          \"K. Aniol, Medical Officer\",\n          \"Daily Express, 7/2/1965; SAF Case #1375\"\n        ],\n        \"semantic_type\": \"\",\n        \"description\": \"\"\n      }\n    }\n  ]\n}"
            }
          },
          "metadata": {},
          "execution_count": 228
        }
      ]
    },
    {
      "cell_type": "code",
      "source": [
        "#3\n",
        "#print(new_df.dtypes)\n",
        "#new_df['Year'].unique()\n",
        "new_df['Year'] = new_df['Year'].fillna(0).astype(int)\n",
        "#new_df['Year'].describe()\n",
        "print('The year values range from 0, the value I choose to replace the nan with, to 2026')\n",
        "after1940_df = new_df[(new_df['Year'] > 1940) & (new_df['Year'] <= 2026)]\n",
        "attacks_by_year = after1940_df.groupby('Year').size()\n",
        "attacks_by_year.plot(kind='line')\n",
        "plt.title('Number of Attacks by Year Since 1940')\n",
        "plt.ylabel('Number of Attacks')\n",
        "plt.show()\n",
        "print('The number of attacks appear to be increasing relatively over time')"
      ],
      "metadata": {
        "id": "aG_bRACmJreA",
        "outputId": "345f604c-12be-43bf-8fb3-496ead60fd73",
        "colab": {
          "base_uri": "https://localhost:8080/",
          "height": 507
        }
      },
      "id": "aG_bRACmJreA",
      "execution_count": 229,
      "outputs": [
        {
          "output_type": "stream",
          "name": "stdout",
          "text": [
            "The year values range from 0, the value I choose to replace the nan with, to 2026\n"
          ]
        },
        {
          "output_type": "display_data",
          "data": {
            "text/plain": [
              "<Figure size 640x480 with 1 Axes>"
            ],
            "image/png": "[encoded data removed]"
          },
          "metadata": {}
        },
        {
          "output_type": "stream",
          "name": "stdout",
          "text": [
            "The number of attacks appear to be increasing relatively over time\n"
          ]
        }
      ]
    },
    {
      "cell_type": "code",
      "source": [
        "#4\n",
        "after1940_df['Age'] = pd.to_numeric(df['Age'], errors='coerce')\n",
        "#after1940_df['Age'].unique()\n",
        "\n",
        "impute_value = after1940_df['Age'].median()\n",
        "after1940_df['Age_impute'] = after1940_df['Age'].fillna(impute_value)\n",
        "after1940_df['Age_impute'] = after1940_df['Age_impute'].astype(int)\n",
        "\n",
        "after1940_df['Age_impute'].unique()\n",
        "after1940_df['Age_impute'].plot(kind='hist')\n",
        "plt.title('Frequency of Shark Act Victims by Age')\n",
        "plt.xlabel('Age of Victims')\n",
        "plt.ylabel('Frequency')"
      ],
      "metadata": {
        "id": "k-t-kp6tK-EL",
        "outputId": "fc60dd66-4136-4bf1-c8f0-fdc1814568ae",
        "colab": {
          "base_uri": "https://localhost:8080/",
          "height": 802
        }
      },
      "id": "k-t-kp6tK-EL",
      "execution_count": 230,
      "outputs": [
        {
          "output_type": "stream",
          "name": "stderr",
          "text": [
            "<ipython-input-230-a88eeda9aa7a>:2: SettingWithCopyWarning: \n",
            "A value is trying to be set on a copy of a slice from a DataFrame.\n",
            "Try using .loc[row_indexer,col_indexer] = value instead\n",
            "\n",
            "See the caveats in the documentation: https://pandas.pydata.org/pandas-docs/stable/user_guide/indexing.html#returning-a-view-versus-a-copy\n",
            "  after1940_df['Age'] = pd.to_numeric(df['Age'], errors='coerce')\n",
            "<ipython-input-230-a88eeda9aa7a>:6: SettingWithCopyWarning: \n",
            "A value is trying to be set on a copy of a slice from a DataFrame.\n",
            "Try using .loc[row_indexer,col_indexer] = value instead\n",
            "\n",
            "See the caveats in the documentation: https://pandas.pydata.org/pandas-docs/stable/user_guide/indexing.html#returning-a-view-versus-a-copy\n",
            "  after1940_df['Age_impute'] = after1940_df['Age'].fillna(impute_value)\n",
            "<ipython-input-230-a88eeda9aa7a>:7: SettingWithCopyWarning: \n",
            "A value is trying to be set on a copy of a slice from a DataFrame.\n",
            "Try using .loc[row_indexer,col_indexer] = value instead\n",
            "\n",
            "See the caveats in the documentation: https://pandas.pydata.org/pandas-docs/stable/user_guide/indexing.html#returning-a-view-versus-a-copy\n",
            "  after1940_df['Age_impute'] = after1940_df['Age_impute'].astype(int)\n"
          ]
        },
        {
          "output_type": "execute_result",
          "data": {
            "text/plain": [
              "Text(0, 0.5, 'Frequency')"
            ]
          },
          "metadata": {},
          "execution_count": 230
        },
        {
          "output_type": "display_data",
          "data": {
            "text/plain": [
              "<Figure size 640x480 with 1 Axes>"
            ],
            "image/png": "[encoded data removed]"
          },
          "metadata": {}
        }
      ]
    },
    {
      "cell_type": "code",
      "source": [
        "#5\n",
        "after1940_df['Sex'] = after1940_df['Sex'].str.strip()\n",
        "invalid_sex = ['lli','M x 2']\n",
        "after1940_df['Sex'] = after1940_df['Sex'].replace(invalid_sex, np.nan)\n",
        "print(after1940_df['Sex'].unique(),'\\n')\n",
        "print(after1940_df['Sex'].value_counts(), '\\n')\n",
        "\n",
        "print('85.9% of the victims after 1940 are male (4281 of 4984)')"
      ],
      "metadata": {
        "id": "kj8peQYMXBGr",
        "outputId": "1637fa7f-2328-4898-ef9a-820b861a0799",
        "colab": {
          "base_uri": "https://localhost:8080/"
        }
      },
      "id": "kj8peQYMXBGr",
      "execution_count": 233,
      "outputs": [
        {
          "output_type": "stream",
          "name": "stdout",
          "text": [
            "['M' 'F' nan] \n",
            "\n",
            "Sex\n",
            "M    4281\n",
            "F     703\n",
            "Name: count, dtype: int64 \n",
            "\n",
            "85.9% of the victims after 1940 are male (4281 of 4984)\n"
          ]
        },
        {
          "output_type": "stream",
          "name": "stderr",
          "text": [
            "<ipython-input-233-bed40c41a1f0>:2: SettingWithCopyWarning: \n",
            "A value is trying to be set on a copy of a slice from a DataFrame.\n",
            "Try using .loc[row_indexer,col_indexer] = value instead\n",
            "\n",
            "See the caveats in the documentation: https://pandas.pydata.org/pandas-docs/stable/user_guide/indexing.html#returning-a-view-versus-a-copy\n",
            "  after1940_df['Sex'] = after1940_df['Sex'].str.strip()\n",
            "<ipython-input-233-bed40c41a1f0>:4: SettingWithCopyWarning: \n",
            "A value is trying to be set on a copy of a slice from a DataFrame.\n",
            "Try using .loc[row_indexer,col_indexer] = value instead\n",
            "\n",
            "See the caveats in the documentation: https://pandas.pydata.org/pandas-docs/stable/user_guide/indexing.html#returning-a-view-versus-a-copy\n",
            "  after1940_df['Sex'] = after1940_df['Sex'].replace(invalid_sex, np.nan)\n"
          ]
        }
      ]
    },
    {
      "cell_type": "code",
      "source": [
        "#6\n",
        "after1940_df['Type'] = after1940_df['Type'].fillna('Unknown').astype(str).str.strip()\n",
        "\n",
        "invalid_types = ['Unknown','Invalid','Watercraft','Sea Disaster','Questionable','Boat','?','Unconfirmed','Unverified','Under investigation']\n",
        "after1940_df['Type'] = after1940_df['Type'].replace(invalid_types, 'Unknown')\n",
        "\n",
        "after1940_df['Type'].value_counts()\n",
        "#print('74.3% of the attacks after 1940 were unprovoked (4037 of 5434)')"
      ],
      "metadata": {
        "id": "YvePiJbbYVqS",
        "outputId": "10726111-b572-4084-cb81-d1dec833d350",
        "colab": {
          "base_uri": "https://localhost:8080/",
          "height": 418
        }
      },
      "id": "YvePiJbbYVqS",
      "execution_count": 251,
      "outputs": [
        {
          "output_type": "stream",
          "name": "stderr",
          "text": [
            "<ipython-input-251-dd9330c2263d>:2: SettingWithCopyWarning: \n",
            "A value is trying to be set on a copy of a slice from a DataFrame.\n",
            "Try using .loc[row_indexer,col_indexer] = value instead\n",
            "\n",
            "See the caveats in the documentation: https://pandas.pydata.org/pandas-docs/stable/user_guide/indexing.html#returning-a-view-versus-a-copy\n",
            "  after1940_df['Type'] = after1940_df['Type'].fillna('Unknown').astype(str).str.strip()\n",
            "<ipython-input-251-dd9330c2263d>:5: SettingWithCopyWarning: \n",
            "A value is trying to be set on a copy of a slice from a DataFrame.\n",
            "Try using .loc[row_indexer,col_indexer] = value instead\n",
            "\n",
            "See the caveats in the documentation: https://pandas.pydata.org/pandas-docs/stable/user_guide/indexing.html#returning-a-view-versus-a-copy\n",
            "  after1940_df['Type'] = after1940_df['Type'].replace(invalid_types, 'Unknown')\n"
          ]
        },
        {
          "output_type": "execute_result",
          "data": {
            "text/plain": [
              "Type\n",
              "Unprovoked    4037\n",
              "Unknown        880\n",
              "Provoked       517\n",
              "Name: count, dtype: int64"
            ],
            "text/html": [
              "<div>\n",
              "<style scoped>\n",
              "    .dataframe tbody tr th:only-of-type {\n",
              "        vertical-align: middle;\n",
              "    }\n",
              "\n",
              "    .dataframe tbody tr th {\n",
              "        vertical-align: top;\n",
              "    }\n",
              "\n",
              "    .dataframe thead th {\n",
              "        text-align: right;\n",
              "    }\n",
              "</style>\n",
              "<table border=\"1\" class=\"dataframe\">\n",
              "  <thead>\n",
              "    <tr style=\"text-align: right;\">\n",
              "      <th></th>\n",
              "      <th>count</th>\n",
              "    </tr>\n",
              "    <tr>\n",
              "      <th>Type</th>\n",
              "      <th></th>\n",
              "    </tr>\n",
              "  </thead>\n",
              "  <tbody>\n",
              "    <tr>\n",
              "      <th>Unprovoked</th>\n",
              "      <td>4037</td>\n",
              "    </tr>\n",
              "    <tr>\n",
              "      <th>Unknown</th>\n",
              "      <td>880</td>\n",
              "    </tr>\n",
              "    <tr>\n",
              "      <th>Provoked</th>\n",
              "      <td>517</td>\n",
              "    </tr>\n",
              "  </tbody>\n",
              "</table>\n",
              "</div><br><label><b>dtype:</b> int64</label>"
            ]
          },
          "metadata": {},
          "execution_count": 251
        }
      ]
    },
    {
      "cell_type": "code",
      "source": [
        "#7\n",
        "after1940_df['Fatal Y/N'] = after1940_df['Fatal Y/N'].astype(str).str.strip().str.upper()\n",
        "after1940_df['Fatal Y/N'].unique()\n",
        "\n",
        "invalid_fatals = ['F','M','NAN','NQ','UNKNOWN','2017','Y X 2']\n",
        "after1940_df['Fatal Y/N'] = after1940_df['Fatal Y/N'].replace(invalid_fatals, 'Unknown')\n",
        "\n",
        "after1940_df['Fatal Y/N'].value_counts()"
      ],
      "metadata": {
        "id": "69Q1cBIYd9b1",
        "outputId": "4b2a5ffd-ee3a-4dfb-b665-b27950d12a9f",
        "colab": {
          "base_uri": "https://localhost:8080/",
          "height": 418
        }
      },
      "id": "69Q1cBIYd9b1",
      "execution_count": 245,
      "outputs": [
        {
          "output_type": "stream",
          "name": "stderr",
          "text": [
            "<ipython-input-245-196c57be2053>:2: SettingWithCopyWarning: \n",
            "A value is trying to be set on a copy of a slice from a DataFrame.\n",
            "Try using .loc[row_indexer,col_indexer] = value instead\n",
            "\n",
            "See the caveats in the documentation: https://pandas.pydata.org/pandas-docs/stable/user_guide/indexing.html#returning-a-view-versus-a-copy\n",
            "  after1940_df['Fatal Y/N'] = after1940_df['Fatal Y/N'].astype(str).str.strip().str.upper()\n",
            "<ipython-input-245-196c57be2053>:6: SettingWithCopyWarning: \n",
            "A value is trying to be set on a copy of a slice from a DataFrame.\n",
            "Try using .loc[row_indexer,col_indexer] = value instead\n",
            "\n",
            "See the caveats in the documentation: https://pandas.pydata.org/pandas-docs/stable/user_guide/indexing.html#returning-a-view-versus-a-copy\n",
            "  after1940_df['Fatal Y/N'] = after1940_df['Fatal Y/N'].replace(invalid_fatals, 'Unknown')\n"
          ]
        },
        {
          "output_type": "execute_result",
          "data": {
            "text/plain": [
              "Fatal Y/N\n",
              "N          4174\n",
              "Y           802\n",
              "Unknown     458\n",
              "Name: count, dtype: int64"
            ],
            "text/html": [
              "<div>\n",
              "<style scoped>\n",
              "    .dataframe tbody tr th:only-of-type {\n",
              "        vertical-align: middle;\n",
              "    }\n",
              "\n",
              "    .dataframe tbody tr th {\n",
              "        vertical-align: top;\n",
              "    }\n",
              "\n",
              "    .dataframe thead th {\n",
              "        text-align: right;\n",
              "    }\n",
              "</style>\n",
              "<table border=\"1\" class=\"dataframe\">\n",
              "  <thead>\n",
              "    <tr style=\"text-align: right;\">\n",
              "      <th></th>\n",
              "      <th>count</th>\n",
              "    </tr>\n",
              "    <tr>\n",
              "      <th>Fatal Y/N</th>\n",
              "      <th></th>\n",
              "    </tr>\n",
              "  </thead>\n",
              "  <tbody>\n",
              "    <tr>\n",
              "      <th>N</th>\n",
              "      <td>4174</td>\n",
              "    </tr>\n",
              "    <tr>\n",
              "      <th>Y</th>\n",
              "      <td>802</td>\n",
              "    </tr>\n",
              "    <tr>\n",
              "      <th>Unknown</th>\n",
              "      <td>458</td>\n",
              "    </tr>\n",
              "  </tbody>\n",
              "</table>\n",
              "</div><br><label><b>dtype:</b> int64</label>"
            ]
          },
          "metadata": {},
          "execution_count": 245
        }
      ]
    },
    {
      "cell_type": "code",
      "source": [
        "#8\n",
        "#Are sharks more likely to launch unprovoked attacks on men or women? Is the attack more or lesslikely to be fatal when the attack is provoked or unprovoked?\n",
        "#Is it more or less likely to be fatal when the victim is male or female? How do you feel about sharks?\n",
        "pd.crosstab(after1940_df['Type'], after1940_df['Fatal Y/N'])\n",
        "pd.crosstab(after1940_df['Sex'], after1940_df['Fatal Y/N'])\n",
        "\n",
        "print('Of the fatal attacks, 83.5% were unprovoked suggesting attacks are more likely to be fatal when unprovoked. Of the fatal attcks, 88.2% wer male, suggesting attacks are more likely to be fatal when the victim is male. I personally don\\'t love sharks and if I saw one at the beach I would be extremely scared.')"
      ],
      "metadata": {
        "colab": {
          "base_uri": "https://localhost:8080/"
        },
        "id": "JA2vMI7lmVdA",
        "outputId": "541b9820-5046-453f-b10e-7587ac1ae477"
      },
      "id": "JA2vMI7lmVdA",
      "execution_count": 256,
      "outputs": [
        {
          "output_type": "stream",
          "name": "stdout",
          "text": [
            "Of the fatal attacks, 83.5% were unprovoked suggesting attacks are more likely to be fatal when unprovoked. Of the fatal attcks, 88.2% wer male, suggesting attacks are more likely to be fatal when the victim is male. I personally don't love sharks and if I saw one at the beach I would be extremely scared.\n"
          ]
        }
      ]
    },
    {
      "cell_type": "code",
      "source": [
        "#9\n",
        "after1940_df['Species_split'] = after1940_df['Species '].astype(str).str.split()\n",
        "\n",
        "def contains_white(species_list):\n",
        "    return 'White' in species_list\n",
        "\n",
        "whitesharks_df = after1940_df[after1940_df['Species_split'].apply(contains_white)]\n",
        "whitesharks_df.shape\n",
        "after1940_df.shape\n",
        "\n",
        "print('8.59% of the attacks after 1940 were from white sharks (467 of 5434)')"
      ],
      "metadata": {
        "colab": {
          "base_uri": "https://localhost:8080/"
        },
        "id": "artmlUZZouYG",
        "outputId": "3dacd071-ddf6-4319-e5c7-9b371fa25952"
      },
      "id": "artmlUZZouYG",
      "execution_count": 271,
      "outputs": [
        {
          "output_type": "stream",
          "name": "stdout",
          "text": [
            "8.59% of the attacks after 1940 were from white sharks (467 of 5434)\n"
          ]
        },
        {
          "output_type": "stream",
          "name": "stderr",
          "text": [
            "<ipython-input-271-41c4ba8a7fd6>:2: SettingWithCopyWarning: \n",
            "A value is trying to be set on a copy of a slice from a DataFrame.\n",
            "Try using .loc[row_indexer,col_indexer] = value instead\n",
            "\n",
            "See the caveats in the documentation: https://pandas.pydata.org/pandas-docs/stable/user_guide/indexing.html#returning-a-view-versus-a-copy\n",
            "  after1940_df['Species_split'] = after1940_df['Species '].astype(str).str.split()\n"
          ]
        }
      ]
    },
    {
      "cell_type": "markdown",
      "id": "5735a4d4-8be8-433a-a351-70eb8002e632",
      "metadata": {
        "id": "5735a4d4-8be8-433a-a351-70eb8002e632"
      },
      "source": [
        "**Q3.** Open the \"tidy_data.pdf\" document in the repo, which is a paper called Tidy Data by Hadley Wickham.\n",
        "\n",
        "  1. Read the abstract. What is this paper about?\n",
        "\n",
        "There is little research on how to clean data well. This paper provides an easy and effect system to output standardized tidy datasets where each variable is a column, each observation is a row, and each type of observational unit is a table. Tidy datasets are easier to manipulate and visualize, and having a consistent data structure across datasets is beneficial.\n",
        "\n",
        "  2. Read the introduction. What is the \"tidy data standard\" intended to accomplish?\n",
        "\n",
        "By providing a standard way to organize values within a dataset, it will aid data exploration and analysis. Tidy data and tidy tools will make this process more efficient, removing the need to translate between different tools and allowing the focus to be on the actual exploration, not logisitics of data.\n",
        "\n",
        "  3. Read the intro to section 2. What does this sentence mean: \"Like families, tidy datasets are all alike but every messy dataset is messy in its own way.\" What does this sentence mean: \"For a given dataset, it’s usually easy to figure out what are observations and what are variables, but it is surprisingly difficult to precisely define variables and observations in general.\"\n",
        "\n",
        "When a dataset is tidy and standardized, its easier to explore as you can use the same tools and algorithms to pull information from them. However, when a dataset is messy, you can't use the same solutions to extract meaning from them as each one will be untidy in its own way.\n",
        "\n",
        "It's hard to preicsely define variables and obserations because the relationship becomes less clear when data structures become more complicated.\n",
        "\n",
        "  4. Read Section 2.2. How does Wickham define values, variables, and observations?\n",
        "\n",
        "Values = either quantitative or qualitative that belong to a variable and an observation\n",
        "Variables = contains all values that measure an underlying attribute (height, temperature) across units\n",
        "Observations = contains all values measured on the same unit (person, day) across attributes\n",
        "\n",
        "  5. How is \"Tidy Data\" defined in section 2.3?\n",
        "\n",
        "Each variable forms a column, each observation forms a row, and each type of observational unit forms a table\n",
        "\n",
        "  6. Read the intro to Section 3 and Section 3.1. What are the 5 most common problems with messy datasets? Why are the data in Table 4 messy? What is \"melting\" a dataset?\n",
        "\n",
        "1) column headers are values, not variable names\n",
        "2) mulitple variables are stored in both rows and columns\n",
        "3) variables are stored in both rows and columns\n",
        "4) multiple types of observational units are stored in the same table\n",
        "5) a single observational unit is stored in multiple tables\n",
        "\n",
        "Table 4 is messy because variables form both the rows and columns and the column headers are values, not variable names. \"Melting\" a dataset is turning columns into rows.\n",
        "\n",
        "  7. Why, specifically, is table 11 messy but table 12 tidy and \"molten\"?\n",
        "\n",
        "Table 11 is messy because the days of the month are column names instead of variable values, the element column combines multiple variable, and a single day's temperature measurements are spread across multiple columns. Table 12 is molten because it fixes these problems and each row represents a single observation of one day.\n",
        "\n",
        "  8. Read Section 6. What is the \"chicken-and-egg\" problem with focusing on tidy data? What does Wickham hope happens in the future with further work on the subject of data wrangling?\n",
        "\n",
        "The chicken-and-egg problem is as follows: if tidy data is only as useful as the tools that work with it, then tidy tools will be inextricably linked to tidy data. This means they have a circular dependency on one another. Tidy tools are useful because they are built specifically to work with tidy data. If the data is messy, the tools don't work. Tidy data is important because it makes the work of tidy tools possible.\n",
        "\n",
        "Wickham hopes data wranglers will not only adopt his tidy principles, but expand on his framework to develope better data storage strategies and tools. He also hopes to see other aspects of data cleaning be optimiazed like parsing dates and numbers, identifying missing values, correcting character encodings (for international data), matching similar but not identical values (created by typos), verifying experimental design, filling in structural missing values, and model-based data cleaning that identifies suspicious values."
      ]
    },
    {
      "cell_type": "markdown",
      "id": "649494cd-cfd6-4f80-992a-9994fc19e1d5",
      "metadata": {
        "id": "649494cd-cfd6-4f80-992a-9994fc19e1d5"
      },
      "source": [
        "**Q4.** Many important datasets contain a race variable, typically limited to a handful of values often including Black, White, Asian, Latino, and Indigenous. This question looks at data gathering efforts on this variable by the U.S. Federal government.\n",
        "\n",
        "1. How did the most recent US Census gather data on race?\n",
        "2. Why do we gather these data? What role do these kinds of data play in politics and society? Why does data quality matter?\n",
        "3. Please provide a constructive criticism of how the Census was conducted: What was done well? What do you think was missing? How should future large scale surveys be adjusted to best reflect the diversity of the population? Could some of the Census' good practices be adopted more widely to gather richer and more useful data?\n",
        "4. How did the Census gather data on sex and gender? Please provide a similar constructive criticism of their practices.\n",
        "5. When it comes to cleaning data, what concerns do you have about protected characteristics like sex, gender, sexual identity, or race? What challenges can you imagine arising when there are missing values? What good or bad practices might people adopt, and why?\n",
        "6. Suppose someone invented an algorithm to impute values for protected characteristics like race, gender, sex, or sexuality. What kinds of concerns would you have?"
      ]
    }
  ],
  "metadata": {
    "colab": {
      "provenance": []
    },
    "kernelspec": {
      "display_name": "Python 3 (ipykernel)",
      "language": "python",
      "name": "python3"
    },
    "language_info": {
      "codemirror_mode": {
        "name": "ipython",
        "version": 3
      },
      "file_extension": ".py",
      "mimetype": "text/x-python",
      "name": "python",
      "nbconvert_exporter": "python",
      "pygments_lexer": "ipython3",
      "version": "3.10.4"
    }
  },
  "nbformat": 4,
  "nbformat_minor": 5
}